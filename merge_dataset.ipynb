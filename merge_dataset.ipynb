{
 "cells": [
  {
   "cell_type": "code",
   "execution_count": 7,
   "metadata": {},
   "outputs": [],
   "source": [
    "import pandas as pd \n",
    "import numpy as np "
   ]
  },
  {
   "cell_type": "code",
   "execution_count": 23,
   "metadata": {},
   "outputs": [],
   "source": [
    "#Loading datasets\n",
    "data2018_2 = pd.read_csv(\"https://dados.ufrn.br/dataset/1938623d-fb07-41a4-a55a-1691f7c3b8b5/resource/77fe7603-0e71-4e21-8cd4-cb823353023f/download/turmas-2018.2.csv\", sep=';')\n",
    "data2019_1 = pd.read_csv(\"https://dados.ufrn.br/dataset/1938623d-fb07-41a4-a55a-1691f7c3b8b5/resource/1e42cd66-69d6-48d5-a346-d46766fd2c9c/download/turmas-2019.1.csv\", sep=';')\n",
    "data2019_2 = pd.read_csv(\"https://dados.ufrn.br/dataset/1938623d-fb07-41a4-a55a-1691f7c3b8b5/resource/d9c2863e-d1b2-4afd-b7dd-09517d5ed17d/download/turmas-2019.2.csv\", sep=';')\n",
    "data2020_6 = pd.read_csv(\"https://dados.ufrn.br/dataset/1938623d-fb07-41a4-a55a-1691f7c3b8b5/resource/964f91df-f322-4e56-897b-f06cca611904/download/turmas-2020.6.csv\", sep=';')\n",
    "# data2020_2 = pd.read_csv(\"\", sep=';') faltando dado\n",
    "\n",
    "data_list = [data2018_2, data2019_1, data2019_2, data2020_6]"
   ]
  },
  {
   "cell_type": "code",
   "execution_count": 35,
   "metadata": {},
   "outputs": [],
   "source": [
    "lista_dados_selecionados = []\n",
    "for d in data_list:\n",
    "    dados_selecionados = d[d['id_componente_curricular'] == 66444]\n",
    "    lista_dados_selecionados.append(dados_selecionados)\n"
   ]
  },
  {
   "cell_type": "code",
   "execution_count": 28,
   "metadata": {},
   "outputs": [],
   "source": [
    "dicionario = pd.read_csv(\"https://dados.ufrn.br/dataset/3fea67e8-6916-4ed0-aaa6-9a8ca06a9bdc/resource/9a3521d2-4bc5-4fda-93f0-f701c8a20727/download/componentes-curriculares-presenciais.csv\", sep=';')"
   ]
  },
  {
   "cell_type": "code",
   "execution_count": 30,
   "metadata": {},
   "outputs": [
    {
     "data": {
      "text/html": [
       "<div>\n",
       "<style scoped>\n",
       "    .dataframe tbody tr th:only-of-type {\n",
       "        vertical-align: middle;\n",
       "    }\n",
       "\n",
       "    .dataframe tbody tr th {\n",
       "        vertical-align: top;\n",
       "    }\n",
       "\n",
       "    .dataframe thead th {\n",
       "        text-align: right;\n",
       "    }\n",
       "</style>\n",
       "<table border=\"1\" class=\"dataframe\">\n",
       "  <thead>\n",
       "    <tr style=\"text-align: right;\">\n",
       "      <th></th>\n",
       "      <th>id_componente</th>\n",
       "      <th>tipo_componente</th>\n",
       "      <th>codigo</th>\n",
       "      <th>nivel</th>\n",
       "      <th>nome</th>\n",
       "      <th>unidade_responsavel</th>\n",
       "      <th>ch_teorico</th>\n",
       "      <th>ch_pratico</th>\n",
       "      <th>ch_estagio</th>\n",
       "      <th>ch_total</th>\n",
       "      <th>...</th>\n",
       "      <th>ementa</th>\n",
       "      <th>bibliografia</th>\n",
       "      <th>objetivos</th>\n",
       "      <th>conteudo</th>\n",
       "      <th>competencias_habilidades</th>\n",
       "      <th>referencias</th>\n",
       "      <th>ano_programa</th>\n",
       "      <th>periodo_programa</th>\n",
       "      <th>modalidade</th>\n",
       "      <th>curso_componente</th>\n",
       "    </tr>\n",
       "  </thead>\n",
       "  <tbody>\n",
       "    <tr>\n",
       "      <th>29873</th>\n",
       "      <td>66444</td>\n",
       "      <td>MÓDULO</td>\n",
       "      <td>IMD1012</td>\n",
       "      <td>G</td>\n",
       "      <td>INTRODUÇÃO ÀS TÉCNICAS DE PROGRAMAÇÃO</td>\n",
       "      <td>INSTITUTO METROPOLE DIGITAL</td>\n",
       "      <td>60</td>\n",
       "      <td>30</td>\n",
       "      <td>0</td>\n",
       "      <td>90</td>\n",
       "      <td>...</td>\n",
       "      <td>1. Introdução ao computador.\\n2. Ferramentas d...</td>\n",
       "      <td>NaN</td>\n",
       "      <td>.</td>\n",
       "      <td>.</td>\n",
       "      <td>NaN</td>\n",
       "      <td>NaN</td>\n",
       "      <td>2021.0</td>\n",
       "      <td>2.0</td>\n",
       "      <td>Presencial</td>\n",
       "      <td>NaN</td>\n",
       "    </tr>\n",
       "  </tbody>\n",
       "</table>\n",
       "<p>1 rows × 29 columns</p>\n",
       "</div>"
      ],
      "text/plain": [
       "       id_componente tipo_componente   codigo nivel  \\\n",
       "29873          66444          MÓDULO  IMD1012     G   \n",
       "\n",
       "                                        nome          unidade_responsavel  \\\n",
       "29873  INTRODUÇÃO ÀS TÉCNICAS DE PROGRAMAÇÃO  INSTITUTO METROPOLE DIGITAL   \n",
       "\n",
       "       ch_teorico  ch_pratico  ch_estagio  ch_total  ...  \\\n",
       "29873          60          30           0        90  ...   \n",
       "\n",
       "                                                  ementa  bibliografia  \\\n",
       "29873  1. Introdução ao computador.\\n2. Ferramentas d...           NaN   \n",
       "\n",
       "       objetivos  conteudo  competencias_habilidades referencias ano_programa  \\\n",
       "29873          .         .                       NaN         NaN       2021.0   \n",
       "\n",
       "      periodo_programa  modalidade curso_componente  \n",
       "29873              2.0  Presencial              NaN  \n",
       "\n",
       "[1 rows x 29 columns]"
      ]
     },
     "execution_count": 30,
     "metadata": {},
     "output_type": "execute_result"
    }
   ],
   "source": [
    "dicionario[dicionario['codigo'] == 'IMD1012'].head()"
   ]
  }
 ],
 "metadata": {
  "interpreter": {
   "hash": "916dbcbb3f70747c44a77c7bcd40155683ae19c65e1c03b4aa3499c5328201f1"
  },
  "kernelspec": {
   "display_name": "Python 3.8.10 64-bit",
   "name": "python3"
  },
  "language_info": {
   "codemirror_mode": {
    "name": "ipython",
    "version": 3
   },
   "file_extension": ".py",
   "mimetype": "text/x-python",
   "name": "python",
   "nbconvert_exporter": "python",
   "pygments_lexer": "ipython3",
   "version": "3.8.10"
  },
  "orig_nbformat": 4
 },
 "nbformat": 4,
 "nbformat_minor": 2
}
